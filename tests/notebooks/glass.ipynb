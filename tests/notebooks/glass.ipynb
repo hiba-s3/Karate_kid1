{
 "cells": [
  {
   "cell_type": "code",
   "execution_count": 43,
   "metadata": {},
   "outputs": [],
   "source": [
    "import cv2\n",
    "import numpy as np\n",
    "import matplotlib.pyplot as plt"
   ]
  },
  {
   "cell_type": "code",
   "execution_count": 44,
   "metadata": {},
   "outputs": [],
   "source": [
    "\n",
    "def remove_light_blue(image):\n",
    "    
    "    hsv_image = cv2.cvtColor(image, cv2.COLOR_BGR2HSV)\n",
    "\n",
    "    
    "    lower_blue = np.array([13, 50, 50])  
    "    upper_blue = np.array([130, 255, 255])  
    "\n",
    "    
    "    mask = cv2.inRange(hsv_image, lower_blue, upper_blue)\n",
    "\n",
    "    
    "    result = cv2.inpaint(image, mask, inpaintRadius=3, flags=cv2.INPAINT_TELEA)\n",
    "\n",
    "    return result, mask\n",
    "\n"
   ]
  },
  {
   "cell_type": "code",
   "execution_count": 45,
   "metadata": {},
   "outputs": [],
   "source": [
    "\n",
    "def detect_glass_with_line(image_path):\n",
    "    
    "    image = cv2.imread(image_path)\n",
    "    if image is None:\n",
    "        print(\"Error: Image not found or could not be loaded.\")\n",
    "        return\n",
    "\n",
    "    
    "    gray_image = cv2.cvtColor(image, cv2.COLOR_BGR2GRAY)\n",
    "\n",
    "    
    "    edges = cv2.Canny(gray_image, 50, 150)\n",
    "\n",
    "    
    "    lines = cv2.HoughLinesP(edges, rho=1, theta=np.pi/180, threshold=50, minLineLength=50, maxLineGap=10)\n",
    "\n",
    "    
    "    plt.figure(figsize=(10, 6))\n",
    "    plt.imshow(cv2.cvtColor(image, cv2.COLOR_BGR2RGB))\n",
    "    plt.title(\"Detected Glass with Horizontal Line\")\n",
    "\n",
    "    
    "    horizontal_line_detected = False\n",
    "    if lines is not None:\n",
    "        for line in lines:\n",
    "            x1, y1, x2, y2 = line[0]\n",
    "            
    "            if abs(y1 - y2) < 10:  
    "                horizontal_line_detected = True\n",
    "                
    "                cv2.line(image, (x1, y1), (x2, y2), (0, 255, 0), 2)\n",
    "                break\n",
    "\n",
    "    
    "    plt.imshow(cv2.cvtColor(image, cv2.COLOR_BGR2RGB))\n",
    "    plt.axis(\"off\")\n",
    "    plt.show()\n",
    "\n",
    "    if horizontal_line_detected:\n",
    "        print(\"Horizontal line detected. Glass likely present.\")\n",
    "    else:\n",
    "        print(\"No horizontal line detected. No glass found.\")"
   ]
  },
  {
   "cell_type": "code",
   "execution_count": 46,
   "metadata": {},
   "outputs": [
    {
     "data": {
      "image/png": "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",
      "text/plain": [
       "<Figure size 1000x600 with 1 Axes>"
      ]
     },
     "metadata": {},
     "output_type": "display_data"
    },
    {
     "name": "stdout",
     "output_type": "stream",
     "text": [
      "No horizontal line detected. No glass found.\n"
     ]
    }
   ],
   "source": [
    "\n",
    "
    "detect_glass_with_line(\"C:\\\\Users\\\\Hamza\\\\Desktop\\\\Computer-Vision\\\\CV_final_project\\\\history\\\\35.png\")\n"
   ]
  },
  {
   "cell_type": "code",
   "execution_count": 47,
   "metadata": {},
   "outputs": [],
   "source": [
    "def determine_position(image_shape, lines):\n",
    "    direction = \"none\"\n",
    "    if lines is None:\n",
    "        return direction\n",
    "    y = 0\n",
    "    middle = image_shape[1] // 2\n",
    "    for line in lines:\n",
    "        x1, y1, x2, y2 = line[0]\n",
    "        if y < y1 and y < y2:\n",
    "            if x1 < middle and x2 < middle:\n",
    "                
    "                direction = \"right\"\n",
    "            elif x1 > middle and x2 > middle:\n",
    "                
    "                direction = \"left\"\n",
    "            y = min(y1, y2)\n",
    "    return direction\n",
    "\n",
    "def cut_upper_half(image):\n",
    "    height = image.shape[0]\n",
    "    return image[height // 2 + int(height * 0.1 ):, :]\n",
    "\n",
    "def process(image):\n",
    "    
    "    if len(image.shape) == 3:  
    "        image = cv2.cvtColor(image, cv2.COLOR_BGR2GRAY)\n",
    "    \n",
    "    lines , debug_image = detect_lines_with_glass(image)\n",
    "    position = determine_position(image.shape, lines)\n",
    "    \n",
    "    
    "    
    "    plt.imshow(cv2.cvtColor(debug_image, cv2.COLOR_BGR2RGB))\n",
    "    plt.title(f\"Detected Lines - Position: {position}\")\n",
    "    plt.axis(\"off\")\n",
    "    plt.show()\n",
    "    return position\n",
    "\n",
    "
    "def line_length(x1, y1, x2, y2):\n",
    "    return np.sqrt((x2 - x1)**2 + (y2 - y1)**2)\n",
    "\n",
    "def filter_long_lines(lines,max_line_length):\n",
    "    
    "    filtered_lines = []\n",
    "    for line in lines:\n",
    "        x1, y1, x2, y2 = line[0]\n",
    "        if line_length(x1, y1, x2, y2) <= max_line_length:\n",
    "            filtered_lines.append(line)\n",
    "\n",
    "\n",
    "def detect_lines_with_glass(image):\n",
    "    \n",
    "    image = cut_upper_half(image)\n",
    "    
    "\n",
    "    
    "    blurred_image = cv2.GaussianBlur(image, (5, 5), 0)\n",
    "    
    "    edges = cv2.Canny(blurred_image, 25, 125, apertureSize=3)\n",
    "\n",
    "    
    "    lines = cv2.HoughLinesP(edges, rho=1, theta=np.pi/180, threshold=10, minLineLength=5, maxLineGap=10)\n",
    "\n",
    "    
    "    debug_image = cv2.cvtColor(blurred_image, cv2.COLOR_GRAY2BGR)  
    "    \n",
    "    
    "    horizontal_lines = []\n",
    "    \n",
    "    if lines is not None:\n",
    "        for line in lines:\n",
    "            x1, y1, x2, y2 = line[0]\n",
    "            \n",
    "            
    "            angle_threshold = np.pi / 4  
    "            angle = np.arctan2(y2 - y1, x2 - x1)\n",
    "            \n",
    "            if abs(angle) < angle_threshold:  
    "                horizontal_lines.append(line)  
    "                cv2.line(debug_image, (x1, y1), (x2, y2), (0, 255, 0), 2)  
    "    else:\n",
    "        print(\"No lines detected\")\n",
    "    filtered_horizontal_lines = filter_long_lines(horizontal_lines,10)\n",
    "\n",
    "    return horizontal_lines , debug_image 
   ]
  },
  {
   "cell_type": "code",
   "execution_count": 48,
   "metadata": {},
   "outputs": [
    {
     "data": {
      "image/png": "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",
      "text/plain": [
       "<Figure size 640x480 with 1 Axes>"
      ]
     },
     "metadata": {},
     "output_type": "display_data"
    },
    {
     "data": {
      "text/plain": [
       "'left'"
      ]
     },
     "execution_count": 48,
     "metadata": {},
     "output_type": "execute_result"
    }
   ],
   "source": [
    "\n",
    "image = cv2.imread(\"C:\\\\Users\\\\Hamza\\\\Desktop\\\\Computer-Vision\\\\CV_final_project\\\\backups\\\\history\\\\38.png\")\n",
    "process(image)"
   ]
  }
 ],
 "metadata": {
  "kernelspec": {
   "display_name": "Python 3",
   "language": "python",
   "name": "python3"
  },
  "language_info": {
   "codemirror_mode": {
    "name": "ipython",
    "version": 3
   },
   "file_extension": ".py",
   "mimetype": "text/x-python",
   "name": "python",
   "nbconvert_exporter": "python",
   "pygments_lexer": "ipython3",
   "version": "3.12.2"
  }
 },
 "nbformat": 4,
 "nbformat_minor": 2
}
